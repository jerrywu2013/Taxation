{
  "nbformat": 4,
  "nbformat_minor": 0,
  "metadata": {
    "colab": {
      "name": "0330.ipynb",
      "provenance": [],
      "collapsed_sections": []
    },
    "kernelspec": {
      "name": "python3",
      "display_name": "Python 3"
    },
    "language_info": {
      "name": "python"
    }
  },
  "cells": [
    {
      "cell_type": "code",
      "metadata": {
        "id": "4SwmKzyprLfy"
      },
      "source": [
        "import numpy as np\n",
        "def NN(m1, m2, w1, w2, b):\n",
        "    z = m1 * w1 + m2 * w2 + b\n",
        "    return sigmoid(z)\n",
        "\n",
        "def sigmoid(x):\n",
        "    return 1/(1 + np.exp(-x))"
      ],
      "execution_count": null,
      "outputs": []
    },
    {
      "cell_type": "code",
      "metadata": {
        "id": "AjiT_88Azr-h"
      },
      "source": [
        "w1 = np.random.randn() \n",
        "w2 = np.random.randn() \n",
        "b = np.random.randn() "
      ],
      "execution_count": null,
      "outputs": []
    },
    {
      "cell_type": "code",
      "metadata": {
        "colab": {
          "base_uri": "https://localhost:8080/"
        },
        "id": "i4ImcZRc0RPo",
        "outputId": "de68411e-7277-4954-f903-543bd65b350d"
      },
      "source": [
        "NN(3,2,w1,w2,b)"
      ],
      "execution_count": null,
      "outputs": [
        {
          "output_type": "execute_result",
          "data": {
            "text/plain": [
              "0.37367005196045844"
            ]
          },
          "metadata": {
            "tags": []
          },
          "execution_count": 9
        }
      ]
    },
    {
      "cell_type": "code",
      "metadata": {
        "id": "k7EHbf-50XgY"
      },
      "source": [
        "phrases = ['看起來像', '我猜是', '我想是', '可能是', '看起來像是', '猜測....']\n",
        "data = [[3,1.5,2],[2,1,0],[4,1.5,1],[3,1,0],[3.5,5,1],[2,0.5,0],[5.5,1,1],[1,1,0]]\n",
        "rand_data = data[np.random.randint(len(data))] #隨機產生len(data)-1的index\n",
        "m1 = rand_data[0]\n",
        "m2 = rand_data[1]"
      ],
      "execution_count": 11,
      "outputs": []
    },
    {
      "cell_type": "code",
      "metadata": {
        "id": "O68O_wWc5aHM"
      },
      "source": [
        "prediction = NN(m1,m2,w1,w2,b)"
      ],
      "execution_count": 25,
      "outputs": []
    },
    {
      "cell_type": "code",
      "metadata": {
        "id": "XbpbATqA55Vc"
      },
      "source": [
        "prediction = NN(m1,m2,w1,w2,b)\n",
        "prediction_text = ['藍色','紅色',''][int(np.round(prediction))] #取四捨五入後的數值"
      ],
      "execution_count": 34,
      "outputs": []
    },
    {
      "cell_type": "code",
      "metadata": {
        "id": "ebtbsC-4569g"
      },
      "source": [
        "phrase = np.random.choice(phrases) + \"\" + prediction_text #隨機取phrases\n",
        "o =('這個' + phrase + \"\\n真的是\"+ ['藍色','紅色',''][rand_data[2]])"
      ],
      "execution_count": 35,
      "outputs": []
    },
    {
      "cell_type": "code",
      "metadata": {
        "colab": {
          "base_uri": "https://localhost:8080/"
        },
        "id": "JkbAfXdFAgKV",
        "outputId": "f349e217-070b-4fb5-fc0d-f9bf6ce2eb36"
      },
      "source": [
        "def NN(m1, m2, w1, w2, b):\n",
        "    z = m1 * w1 + m2 * w2 + b\n",
        "    return sigmoid(z)\n",
        "\n",
        "def sigmoid(x):\n",
        "    return 1/(1 + np.exp(-x))\n",
        "\n",
        "w1 = np.random.randn() \n",
        "w2 = np.random.randn() \n",
        "b = np.random.randn() \n",
        "\n",
        "phrases = ['看起來像', '我猜是', '我想是', '可能是', '看起來像是', '猜測....']\n",
        "data = [[3,1.5,2],[2,1,2],[4,1.5,1],[3,1,0],[3.5,5,1],[2,0.5,0],[5.5,1,1],[1,1,0]]\n",
        "rand_data = data[np.random.randint(len(data))] #隨機產生len(data)-1的index\n",
        "m1 = rand_data[0]\n",
        "m2 = rand_data[1]\n",
        "\n",
        "prediction = NN(m1,m2,w1,w2,b)\n",
        "prediction_text = ['剪刀','石頭','布'][int(np.round(prediction))] #取四捨五入後的數值\n",
        "phrase = np.random.choice(phrases) + \"\" + prediction_text #隨機取phrases\n",
        "o =('這個' + phrase + \"\\n真的是\"+ ['剪刀','石頭','布'][rand_data[2]])\n",
        "print(o)\n",
        "\n"
      ],
      "execution_count": 37,
      "outputs": [
        {
          "output_type": "stream",
          "text": [
            "這個我想是石頭\n",
            "真的是石頭\n"
          ],
          "name": "stdout"
        }
      ]
    },
    {
      "cell_type": "code",
      "metadata": {
        "id": "VRgNeArxGPsy"
      },
      "source": [
        "def NN(m1, m2, w1, w2, b):\n",
        "    z = m1 * w1 + m2 * w2 + b\n",
        "    return sigmoid(z)\n",
        "\n",
        "def sigmoid(x):\n",
        "    return 1/(1 + np.exp(-x))\n",
        "\n",
        "w1 = np.random.randn() \n",
        "w2 = np.random.randn() \n",
        "b = np.random.randn() \n",
        "\n",
        "phrases = ['看起來像', '我猜是', '我想是', '可能是', '看起來像是', '猜測....']\n",
        "data = [[3,1.5,2],[2,1,2],[4,1.5,1],[3,1,0],[3.5,5,1],[2,0.5,0],[5.5,1,1],[1,1,0]]\n",
        "rand_data = data[np.random.randint(len(data))] #隨機產生len(data)-1的index\n",
        "m1 = rand_data[0]\n",
        "m2 = rand_data[1]\n",
        "\n",
        "prediction = NN(m1,m2,w1,w2,b)\n",
        "prediction_text = ['剪刀','石頭','布'][int(np.round(prediction))] #取四捨五入後的數值\n",
        "phrase = np.random.choice(phrases) + \"\" + prediction_text #隨機取phrases\n",
        "o =('這個' + phrase + \"\\n真的是\"+ ['剪刀','石頭','布'][rand_data[2]])\n",
        "print(o)\n",
        "\n",
        "x = input(\"輸入剪刀、石頭、布：\")\n",
        "if x == \"剪刀\" and prediction_text == \"石頭\" :\n",
        "    print(\"輸了\",x, \"VS\", prediction_text)\n",
        "elif x == \"剪刀\" and prediction_text == \"布\" :\n",
        "    print(\"贏了\",x, \"VS\", prediction_text)\n",
        "else:\n",
        "    print(\"不清楚\",x, \"VS\", prediction_text)"
      ],
      "execution_count": null,
      "outputs": []
    }
  ]
}